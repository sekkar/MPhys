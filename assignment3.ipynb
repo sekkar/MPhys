{
 "cells": [
  {
   "cell_type": "markdown",
   "id": "76b98be3",
   "metadata": {},
   "source": [
    "# Read in data"
   ]
  },
  {
   "cell_type": "code",
   "execution_count": 33,
   "id": "5ea30803",
   "metadata": {
    "scrolled": false
   },
   "outputs": [
    {
     "data": {
      "text/html": [
       "<div>\n",
       "<style scoped>\n",
       "    .dataframe tbody tr th:only-of-type {\n",
       "        vertical-align: middle;\n",
       "    }\n",
       "\n",
       "    .dataframe tbody tr th {\n",
       "        vertical-align: top;\n",
       "    }\n",
       "\n",
       "    .dataframe thead th {\n",
       "        text-align: right;\n",
       "    }\n",
       "</style>\n",
       "<table border=\"1\" class=\"dataframe\">\n",
       "  <thead>\n",
       "    <tr style=\"text-align: right;\">\n",
       "      <th></th>\n",
       "      <th>event_ID</th>\n",
       "      <th>process_ID</th>\n",
       "      <th>event_weight</th>\n",
       "      <th>MET</th>\n",
       "      <th>METphi</th>\n",
       "      <th>obj1</th>\n",
       "      <th>E1</th>\n",
       "      <th>pt1</th>\n",
       "      <th>eta1</th>\n",
       "      <th>phi1</th>\n",
       "      <th>...</th>\n",
       "      <th>obj5</th>\n",
       "      <th>E5</th>\n",
       "      <th>pt5</th>\n",
       "      <th>eta5</th>\n",
       "      <th>phi5</th>\n",
       "      <th>obj6</th>\n",
       "      <th>E6</th>\n",
       "      <th>pt6</th>\n",
       "      <th>eta6</th>\n",
       "      <th>phi6</th>\n",
       "    </tr>\n",
       "  </thead>\n",
       "  <tbody>\n",
       "    <tr>\n",
       "      <th>0</th>\n",
       "      <td>354</td>\n",
       "      <td>monojet_Zp2000.0_DM_50.0</td>\n",
       "      <td>0.000024</td>\n",
       "      <td>832841.0</td>\n",
       "      <td>-1.224310</td>\n",
       "      <td>b</td>\n",
       "      <td>947383.0</td>\n",
       "      <td>824498.0</td>\n",
       "      <td>-0.523103</td>\n",
       "      <td>1.644210</td>\n",
       "      <td>...</td>\n",
       "      <td>j</td>\n",
       "      <td>39507.6</td>\n",
       "      <td>35365.1</td>\n",
       "      <td>0.47046</td>\n",
       "      <td>-1.16445</td>\n",
       "      <td>j</td>\n",
       "      <td>225430.0</td>\n",
       "      <td>26878.2</td>\n",
       "      <td>-2.81608</td>\n",
       "      <td>-2.25938</td>\n",
       "    </tr>\n",
       "    <tr>\n",
       "      <th>1</th>\n",
       "      <td>354</td>\n",
       "      <td>monojet_Zp2000.0_DM_50.0</td>\n",
       "      <td>0.000024</td>\n",
       "      <td>732115.0</td>\n",
       "      <td>1.172450</td>\n",
       "      <td>j</td>\n",
       "      <td>1069460.0</td>\n",
       "      <td>751597.0</td>\n",
       "      <td>0.858186</td>\n",
       "      <td>-1.842170</td>\n",
       "      <td>...</td>\n",
       "      <td>None</td>\n",
       "      <td>NaN</td>\n",
       "      <td>NaN</td>\n",
       "      <td>NaN</td>\n",
       "      <td>NaN</td>\n",
       "      <td>None</td>\n",
       "      <td>NaN</td>\n",
       "      <td>NaN</td>\n",
       "      <td>NaN</td>\n",
       "      <td>NaN</td>\n",
       "    </tr>\n",
       "    <tr>\n",
       "      <th>2</th>\n",
       "      <td>354</td>\n",
       "      <td>monojet_Zp2000.0_DM_50.0</td>\n",
       "      <td>0.000024</td>\n",
       "      <td>1056280.0</td>\n",
       "      <td>-3.067440</td>\n",
       "      <td>j</td>\n",
       "      <td>676000.0</td>\n",
       "      <td>640429.0</td>\n",
       "      <td>0.330450</td>\n",
       "      <td>0.704554</td>\n",
       "      <td>...</td>\n",
       "      <td>NaN</td>\n",
       "      <td>NaN</td>\n",
       "      <td>NaN</td>\n",
       "      <td>NaN</td>\n",
       "      <td>NaN</td>\n",
       "      <td>None</td>\n",
       "      <td>NaN</td>\n",
       "      <td>NaN</td>\n",
       "      <td>NaN</td>\n",
       "      <td>NaN</td>\n",
       "    </tr>\n",
       "    <tr>\n",
       "      <th>3</th>\n",
       "      <td>354</td>\n",
       "      <td>monojet_Zp2000.0_DM_50.0</td>\n",
       "      <td>0.000024</td>\n",
       "      <td>631781.0</td>\n",
       "      <td>1.641810</td>\n",
       "      <td>j</td>\n",
       "      <td>936707.0</td>\n",
       "      <td>616229.0</td>\n",
       "      <td>0.973383</td>\n",
       "      <td>-1.565920</td>\n",
       "      <td>...</td>\n",
       "      <td>None</td>\n",
       "      <td>NaN</td>\n",
       "      <td>NaN</td>\n",
       "      <td>NaN</td>\n",
       "      <td>NaN</td>\n",
       "      <td>None</td>\n",
       "      <td>NaN</td>\n",
       "      <td>NaN</td>\n",
       "      <td>NaN</td>\n",
       "      <td>NaN</td>\n",
       "    </tr>\n",
       "    <tr>\n",
       "      <th>4</th>\n",
       "      <td>354</td>\n",
       "      <td>monojet_Zp2000.0_DM_50.0</td>\n",
       "      <td>0.000024</td>\n",
       "      <td>457316.0</td>\n",
       "      <td>-1.875360</td>\n",
       "      <td>j</td>\n",
       "      <td>640313.0</td>\n",
       "      <td>589524.0</td>\n",
       "      <td>0.390749</td>\n",
       "      <td>1.237340</td>\n",
       "      <td>...</td>\n",
       "      <td>None</td>\n",
       "      <td>NaN</td>\n",
       "      <td>NaN</td>\n",
       "      <td>NaN</td>\n",
       "      <td>NaN</td>\n",
       "      <td>None</td>\n",
       "      <td>NaN</td>\n",
       "      <td>NaN</td>\n",
       "      <td>NaN</td>\n",
       "      <td>NaN</td>\n",
       "    </tr>\n",
       "    <tr>\n",
       "      <th>...</th>\n",
       "      <td>...</td>\n",
       "      <td>...</td>\n",
       "      <td>...</td>\n",
       "      <td>...</td>\n",
       "      <td>...</td>\n",
       "      <td>...</td>\n",
       "      <td>...</td>\n",
       "      <td>...</td>\n",
       "      <td>...</td>\n",
       "      <td>...</td>\n",
       "      <td>...</td>\n",
       "      <td>...</td>\n",
       "      <td>...</td>\n",
       "      <td>...</td>\n",
       "      <td>...</td>\n",
       "      <td>...</td>\n",
       "      <td>...</td>\n",
       "      <td>...</td>\n",
       "      <td>...</td>\n",
       "      <td>...</td>\n",
       "      <td>...</td>\n",
       "    </tr>\n",
       "    <tr>\n",
       "      <th>6139</th>\n",
       "      <td>354</td>\n",
       "      <td>monojet_Zp2000.0_DM_50.0</td>\n",
       "      <td>0.000024</td>\n",
       "      <td>887847.0</td>\n",
       "      <td>0.226765</td>\n",
       "      <td>j</td>\n",
       "      <td>955187.0</td>\n",
       "      <td>889283.0</td>\n",
       "      <td>-0.381788</td>\n",
       "      <td>-2.868670</td>\n",
       "      <td>...</td>\n",
       "      <td>None</td>\n",
       "      <td>NaN</td>\n",
       "      <td>NaN</td>\n",
       "      <td>NaN</td>\n",
       "      <td>NaN</td>\n",
       "      <td>None</td>\n",
       "      <td>NaN</td>\n",
       "      <td>NaN</td>\n",
       "      <td>NaN</td>\n",
       "      <td>NaN</td>\n",
       "    </tr>\n",
       "    <tr>\n",
       "      <th>6140</th>\n",
       "      <td>354</td>\n",
       "      <td>monojet_Zp2000.0_DM_50.0</td>\n",
       "      <td>0.000024</td>\n",
       "      <td>914355.0</td>\n",
       "      <td>1.529030</td>\n",
       "      <td>j</td>\n",
       "      <td>1119940.0</td>\n",
       "      <td>1012690.0</td>\n",
       "      <td>0.453265</td>\n",
       "      <td>-1.772780</td>\n",
       "      <td>...</td>\n",
       "      <td>NaN</td>\n",
       "      <td>NaN</td>\n",
       "      <td>NaN</td>\n",
       "      <td>NaN</td>\n",
       "      <td>NaN</td>\n",
       "      <td>None</td>\n",
       "      <td>NaN</td>\n",
       "      <td>NaN</td>\n",
       "      <td>NaN</td>\n",
       "      <td>NaN</td>\n",
       "    </tr>\n",
       "    <tr>\n",
       "      <th>6141</th>\n",
       "      <td>354</td>\n",
       "      <td>monojet_Zp2000.0_DM_50.0</td>\n",
       "      <td>0.000024</td>\n",
       "      <td>782256.0</td>\n",
       "      <td>-1.207510</td>\n",
       "      <td>j</td>\n",
       "      <td>1915090.0</td>\n",
       "      <td>874869.0</td>\n",
       "      <td>1.418550</td>\n",
       "      <td>1.839270</td>\n",
       "      <td>...</td>\n",
       "      <td>NaN</td>\n",
       "      <td>NaN</td>\n",
       "      <td>NaN</td>\n",
       "      <td>NaN</td>\n",
       "      <td>NaN</td>\n",
       "      <td>None</td>\n",
       "      <td>NaN</td>\n",
       "      <td>NaN</td>\n",
       "      <td>NaN</td>\n",
       "      <td>NaN</td>\n",
       "    </tr>\n",
       "    <tr>\n",
       "      <th>6142</th>\n",
       "      <td>354</td>\n",
       "      <td>monojet_Zp2000.0_DM_50.0</td>\n",
       "      <td>0.000024</td>\n",
       "      <td>632390.0</td>\n",
       "      <td>-0.975687</td>\n",
       "      <td>j</td>\n",
       "      <td>731849.0</td>\n",
       "      <td>722541.0</td>\n",
       "      <td>-0.134499</td>\n",
       "      <td>2.563930</td>\n",
       "      <td>...</td>\n",
       "      <td>None</td>\n",
       "      <td>NaN</td>\n",
       "      <td>NaN</td>\n",
       "      <td>NaN</td>\n",
       "      <td>NaN</td>\n",
       "      <td>None</td>\n",
       "      <td>NaN</td>\n",
       "      <td>NaN</td>\n",
       "      <td>NaN</td>\n",
       "      <td>NaN</td>\n",
       "    </tr>\n",
       "    <tr>\n",
       "      <th>6143</th>\n",
       "      <td>354</td>\n",
       "      <td>monojet_Zp2000.0_DM_50.0</td>\n",
       "      <td>0.000024</td>\n",
       "      <td>820060.0</td>\n",
       "      <td>-0.043785</td>\n",
       "      <td>j</td>\n",
       "      <td>893689.0</td>\n",
       "      <td>742040.0</td>\n",
       "      <td>-0.618057</td>\n",
       "      <td>-3.104660</td>\n",
       "      <td>...</td>\n",
       "      <td>None</td>\n",
       "      <td>NaN</td>\n",
       "      <td>NaN</td>\n",
       "      <td>NaN</td>\n",
       "      <td>NaN</td>\n",
       "      <td>None</td>\n",
       "      <td>NaN</td>\n",
       "      <td>NaN</td>\n",
       "      <td>NaN</td>\n",
       "      <td>NaN</td>\n",
       "    </tr>\n",
       "  </tbody>\n",
       "</table>\n",
       "<p>6144 rows × 35 columns</p>\n",
       "</div>"
      ],
      "text/plain": [
       "      event_ID                process_ID  event_weight        MET    METphi  \\\n",
       "0          354  monojet_Zp2000.0_DM_50.0      0.000024   832841.0 -1.224310   \n",
       "1          354  monojet_Zp2000.0_DM_50.0      0.000024   732115.0  1.172450   \n",
       "2          354  monojet_Zp2000.0_DM_50.0      0.000024  1056280.0 -3.067440   \n",
       "3          354  monojet_Zp2000.0_DM_50.0      0.000024   631781.0  1.641810   \n",
       "4          354  monojet_Zp2000.0_DM_50.0      0.000024   457316.0 -1.875360   \n",
       "...        ...                       ...           ...        ...       ...   \n",
       "6139       354  monojet_Zp2000.0_DM_50.0      0.000024   887847.0  0.226765   \n",
       "6140       354  monojet_Zp2000.0_DM_50.0      0.000024   914355.0  1.529030   \n",
       "6141       354  monojet_Zp2000.0_DM_50.0      0.000024   782256.0 -1.207510   \n",
       "6142       354  monojet_Zp2000.0_DM_50.0      0.000024   632390.0 -0.975687   \n",
       "6143       354  monojet_Zp2000.0_DM_50.0      0.000024   820060.0 -0.043785   \n",
       "\n",
       "     obj1         E1        pt1      eta1      phi1  ...  obj5       E5  \\\n",
       "0       b   947383.0   824498.0 -0.523103  1.644210  ...     j  39507.6   \n",
       "1       j  1069460.0   751597.0  0.858186 -1.842170  ...  None      NaN   \n",
       "2       j   676000.0   640429.0  0.330450  0.704554  ...   NaN      NaN   \n",
       "3       j   936707.0   616229.0  0.973383 -1.565920  ...  None      NaN   \n",
       "4       j   640313.0   589524.0  0.390749  1.237340  ...  None      NaN   \n",
       "...   ...        ...        ...       ...       ...  ...   ...      ...   \n",
       "6139    j   955187.0   889283.0 -0.381788 -2.868670  ...  None      NaN   \n",
       "6140    j  1119940.0  1012690.0  0.453265 -1.772780  ...   NaN      NaN   \n",
       "6141    j  1915090.0   874869.0  1.418550  1.839270  ...   NaN      NaN   \n",
       "6142    j   731849.0   722541.0 -0.134499  2.563930  ...  None      NaN   \n",
       "6143    j   893689.0   742040.0 -0.618057 -3.104660  ...  None      NaN   \n",
       "\n",
       "          pt5     eta5     phi5  obj6        E6      pt6     eta6     phi6  \n",
       "0     35365.1  0.47046 -1.16445     j  225430.0  26878.2 -2.81608 -2.25938  \n",
       "1         NaN      NaN      NaN  None       NaN      NaN      NaN      NaN  \n",
       "2         NaN      NaN      NaN  None       NaN      NaN      NaN      NaN  \n",
       "3         NaN      NaN      NaN  None       NaN      NaN      NaN      NaN  \n",
       "4         NaN      NaN      NaN  None       NaN      NaN      NaN      NaN  \n",
       "...       ...      ...      ...   ...       ...      ...      ...      ...  \n",
       "6139      NaN      NaN      NaN  None       NaN      NaN      NaN      NaN  \n",
       "6140      NaN      NaN      NaN  None       NaN      NaN      NaN      NaN  \n",
       "6141      NaN      NaN      NaN  None       NaN      NaN      NaN      NaN  \n",
       "6142      NaN      NaN      NaN  None       NaN      NaN      NaN      NaN  \n",
       "6143      NaN      NaN      NaN  None       NaN      NaN      NaN      NaN  \n",
       "\n",
       "[6144 rows x 35 columns]"
      ]
     },
     "execution_count": 33,
     "metadata": {},
     "output_type": "execute_result"
    }
   ],
   "source": [
    "import pandas as pd\n",
    "original_path = 'C:/Users/skaro/Documents/University/MPhys/MPhys Coding/original_data.csv'\n",
    "original = pd.read_csv(original_path, on_bad_lines='skip', header=None, sep='[;,]', engine='python')\n",
    "del original[35]\n",
    "dict = {0:'event_ID', 1:'process_ID', 2:'event_weight', 3:'MET', 4:'METphi',\n",
    "       5:'obj1', 6:'E1', 7:'pt1', 8:'eta1', 9:'phi1',\n",
    "       10:'obj2', 11:'E2', 12:'pt2', 13:'eta2', 14:'phi2',\n",
    "       15:'obj3', 16:'E3', 17:'pt3', 18:'eta3', 19:'phi3',\n",
    "       20:'obj4', 21:'E4', 22:'pt4', 23:'eta4', 24:'phi4',\n",
    "       25:'obj5', 26:'E5', 27:'pt5', 28:'eta5', 29:'phi5',\n",
    "       30:'obj6', 31:'E6', 32:'pt6', 33:'eta6', 34:'phi6'}\n",
    "original.rename(columns=dict, inplace=True)\n",
    "original = original.astype({\n",
    "    'E1':float, 'pt1':float, 'eta1':float, 'phi1':float,\n",
    "    'E2':float, 'pt2':float, 'eta2':float, 'phi2':float,\n",
    "    'E3':float, 'pt3':float, 'eta3':float, 'phi3':float,\n",
    "    'E4':float, 'pt4':float, 'eta4':float, 'phi4':float,\n",
    "    'E5':float, 'pt5':float, 'eta5':float, 'phi5':float,\n",
    "    'E6':float, 'pt6':float, 'eta6':float, 'phi6':float})\n",
    "original"
   ]
  },
  {
   "cell_type": "markdown",
   "id": "331382cf",
   "metadata": {},
   "source": [
    "# Separate data into training and validation sets\n",
    "\n",
    "Use DataFrame.sample() and DataFrame.drop() from pandas"
   ]
  },
  {
   "cell_type": "code",
   "execution_count": 5,
   "id": "807f8f9b",
   "metadata": {},
   "outputs": [],
   "source": [
    "validation = original.sample(frac=0.2)\n",
    "training = original.drop(validation.index)"
   ]
  },
  {
   "cell_type": "markdown",
   "id": "3861be14",
   "metadata": {},
   "source": [
    "# Display training data as graphs"
   ]
  },
  {
   "cell_type": "code",
   "execution_count": 6,
   "id": "b1b3aa58",
   "metadata": {},
   "outputs": [
    {
     "data": {
      "image/png": "[encoded data removed]",
      "text/plain": [
       "<Figure size 432x288 with 1 Axes>"
      ]
     },
     "metadata": {
      "needs_background": "light"
     },
     "output_type": "display_data"
    },
    {
     "data": {
      "image/png": "[encoded data removed]",
      "text/plain": [
       "<Figure size 432x288 with 1 Axes>"
      ]
     },
     "metadata": {
      "needs_background": "light"
     },
     "output_type": "display_data"
    },
    {
     "data": {
      "image/png": "[encoded data removed]",
      "text/plain": [
       "<Figure size 432x288 with 1 Axes>"
      ]
     },
     "metadata": {
      "needs_background": "light"
     },
     "output_type": "display_data"
    },
    {
     "data": {
      "image/png": "[encoded data removed]",
      "text/plain": [
       "<Figure size 432x288 with 1 Axes>"
      ]
     },
     "metadata": {
      "needs_background": "light"
     },
     "output_type": "display_data"
    }
   ],
   "source": [
    "import matplotlib.pyplot as plt\n",
    "E = pd.concat([training['E1'], training['E2'], training['E3'], training['E4'], training['E5'], training['E6']])\n",
    "pt = pd.concat([training['pt1'], training['pt2'], training['pt3'], training['pt4'], training['pt5'], training['pt6']])\n",
    "eta = pd.concat([training['eta1'], training['eta2'], training['eta3'], training['eta4'], training['eta5'], training['eta6']])\n",
    "phi = pd.concat([training['phi1'], training['phi2'], training['phi3'], training['phi4'], training['phi5'], training['phi6']])\n",
    "\n",
    "values = [E, pt, eta, phi]\n",
    "vars_names = [r'$E$', r'$p_T$', r'$\\eta$', r'$\\phi$']\n",
    "units = ['[GeV]', '[GeV]', '[rad]', '[rad]']\n",
    "n_bins = 100\n",
    "\n",
    "for i in range(0,4):\n",
    "    n_hist_data, bin_edges, _ = plt.hist(values[i], color='gray', label='Input', alpha=1, bins=n_bins)\n",
    "    plt.xlabel(xlabel=vars_names[i] + ' ' + units[i])\n",
    "    plt.ylabel('# of events')\n",
    "    plt.show()"
   ]
  },
  {
   "cell_type": "markdown",
   "id": "f02aa068",
   "metadata": {},
   "source": [
    "# Setting up the network\n",
    "## Preparing the data"
   ]
  },
  {
   "cell_type": "code",
   "execution_count": 74,
   "id": "dca387a3",
   "metadata": {
    "scrolled": true
   },
   "outputs": [],
   "source": [
    "import torch\n",
    "import torch.nn as nn\n",
    "import torch.optim as optim\n",
    "import torch.utils.data\n",
    "from torch.autograd import Variable\n",
    "\n",
    "from torch.utils.data import TensorDataset\n",
    "from torch.utils.data import DataLoader\n",
    "\n",
    "from fastai import learner\n",
    "from fastai.data import core\n",
    "\n",
    "training_x = training[['E1', 'pt1', 'eta1', 'phi1',\n",
    "                      'E2', 'pt2', 'eta2', 'phi2',\n",
    "                      'E3', 'pt3', 'eta3', 'phi3',\n",
    "                      'E4', 'pt4', 'eta4', 'phi4',\n",
    "                      'E5', 'pt5', 'eta5', 'phi5',\n",
    "                      'E6', 'pt6', 'eta6', 'phi6']]\n",
    "validation_x = validation[['E1', 'pt1', 'eta1', 'phi1',\n",
    "                      'E2', 'pt2', 'eta2', 'phi2',\n",
    "                      'E3', 'pt3', 'eta3', 'phi3',\n",
    "                      'E4', 'pt4', 'eta4', 'phi4',\n",
    "                      'E5', 'pt5', 'eta5', 'phi5',\n",
    "                      'E6', 'pt6', 'eta6', 'phi6']]\n",
    "training_y = training_x\n",
    "validation_y = validation_x\n",
    "\n",
    "training_ds = TensorDataset(torch.tensor(training_x.values, dtype=torch.float), torch.tensor(training_y.values, dtype=torch.float))\n",
    "validation_ds = TensorDataset(torch.tensor(validation_x.values, dtype=torch.float), torch.tensor(validation_y.values, dtype=torch.float))\n",
    "\n"
   ]
  },
  {
   "cell_type": "markdown",
   "id": "d189b713",
   "metadata": {},
   "source": [
    "Using batch size optimised by previous students"
   ]
  },
  {
   "cell_type": "code",
   "execution_count": 64,
   "id": "b4a31cfd",
   "metadata": {},
   "outputs": [
    {
     "data": {
      "text/plain": [
       "<fastai.data.core.DataLoaders at 0x1a701754790>"
      ]
     },
     "execution_count": 64,
     "metadata": {},
     "output_type": "execute_result"
    }
   ],
   "source": [
    "bs = 256\n",
    "# Converts the TensorDataset into a DataLoader object and combines into one DataLoaders object (a basic wrapper\n",
    "# around several DataLoader objects). \n",
    "training_dl = DataLoader(training_ds, batch_size=bs, shuffle=True)\n",
    "validation_dl = DataLoader(validation_ds, batch_size=bs*2)\n",
    "dls = core.DataLoaders(training_dl, validation_dl)"
   ]
  },
  {
   "cell_type": "markdown",
   "id": "435a04f4",
   "metadata": {},
   "source": [
    "# Preparing the network"
   ]
  },
  {
   "cell_type": "code",
   "execution_count": 57,
   "id": "c735a7f1",
   "metadata": {},
   "outputs": [
    {
     "data": {
      "text/plain": [
       "AE_3D_200_LeakyReLU(\n",
       "  (en1): Linear(in_features=24, out_features=200, bias=True)\n",
       "  (en2): Linear(in_features=200, out_features=200, bias=True)\n",
       "  (en3): Linear(in_features=200, out_features=20, bias=True)\n",
       "  (en4): Linear(in_features=20, out_features=3, bias=True)\n",
       "  (de1): Linear(in_features=3, out_features=20, bias=True)\n",
       "  (de2): Linear(in_features=20, out_features=200, bias=True)\n",
       "  (de3): Linear(in_features=200, out_features=200, bias=True)\n",
       "  (de4): Linear(in_features=200, out_features=24, bias=True)\n",
       "  (tanh): Tanh()\n",
       ")"
      ]
     },
     "execution_count": 57,
     "metadata": {},
     "output_type": "execute_result"
    }
   ],
   "source": [
    "class AE_3D_200_LeakyReLU(nn.Module):\n",
    "    def __init__(self, n_features=24):\n",
    "        super(AE_3D_200_LeakyReLU, self).__init__()\n",
    "        self.en1 = nn.Linear(n_features, 200)\n",
    "        self.en2 = nn.Linear(200, 200)\n",
    "        self.en3 = nn.Linear(200, 20)\n",
    "        self.en4 = nn.Linear(20, 3)\n",
    "        self.de1 = nn.Linear(3, 20)\n",
    "        self.de2 = nn.Linear(20, 200)\n",
    "        self.de3 = nn.Linear(200, 200)\n",
    "        self.de4 = nn.Linear(200, n_features)\n",
    "        self.tanh = nn.Tanh()\n",
    "\n",
    "    def encode(self, x):\n",
    "        return self.en4(self.tanh(self.en3(self.tanh(self.en2(self.tanh(self.en1(x)))))))\n",
    "\n",
    "    def decode(self, x):\n",
    "        return self.de4(self.tanh(self.de3(self.tanh(self.de2(self.tanh(self.de1(self.tanh(x))))))))\n",
    "\n",
    "    def forward(self, x):\n",
    "        z = self.encode(x)\n",
    "        return self.decode(z)\n",
    "\n",
    "    def describe(self):\n",
    "        return 'in-200-200-20-3-20-200-200-out'\n",
    "\n",
    "#model = AE_3D_200_LeakyReLU().double()\n",
    "model = AE_3D_200_LeakyReLU()\n",
    "model.to('cpu')"
   ]
  },
  {
   "cell_type": "markdown",
   "id": "f4455c1a",
   "metadata": {},
   "source": [
    "Pick a loss function"
   ]
  },
  {
   "cell_type": "code",
   "execution_count": 58,
   "id": "e472ff97",
   "metadata": {},
   "outputs": [],
   "source": [
    "from fastai.metrics import mse\n",
    "\n",
    "loss_func = nn.MSELoss()\n",
    "\n",
    "#bn_wd = False  # Don't use weight decay for batchnorm layers\n",
    "#true_wd = True  # weight decay will be used for all optimizers\n",
    "wd = 1e-6\n",
    "\n",
    "recorder = learner.Recorder()\n",
    "learn = learner.Learner(dls, model=model, wd=wd, loss_func=loss_func, cbs=recorder)\n",
    "#was: learn = basic_train.Learner(data=db, model=model, loss_func=loss_func, wd=wd, callback_fns=ActivationStats, bn_wd=bn_wd, true_wd=true_wd)\n"
   ]
  },
  {
   "cell_type": "markdown",
   "id": "70af2db5",
   "metadata": {},
   "source": [
    "# Alternative 2: Running a pre-trained network\n",
    "Note: Could not get Alternative 1 to work :(  \n",
    "Error message:  \n",
    "FileNotFoundError: [Errno 2] No such file or directory: 'models\\\\4D_TLA_leading.pth'"
   ]
  },
  {
   "cell_type": "code",
   "execution_count": 78,
   "id": "63fa3b4c",
   "metadata": {},
   "outputs": [
    {
     "data": {
      "text/html": [
       "\n",
       "<style>\n",
       "    /* Turns off some styling */\n",
       "    progress {\n",
       "        /* gets rid of default border in Firefox and Opera. */\n",
       "        border: none;\n",
       "        /* Needs to be in here for Safari polyfill so background images work as expected. */\n",
       "        background-size: auto;\n",
       "    }\n",
       "    progress:not([value]), progress:not([value])::-webkit-progress-bar {\n",
       "        background: repeating-linear-gradient(45deg, #7e7e7e, #7e7e7e 10px, #5c5c5c 10px, #5c5c5c 20px);\n",
       "    }\n",
       "    .progress-bar-interrupted, .progress-bar-interrupted::-webkit-progress-bar {\n",
       "        background: #F44336;\n",
       "    }\n",
       "</style>\n"
      ],
      "text/plain": [
       "<IPython.core.display.HTML object>"
      ]
     },
     "metadata": {},
     "output_type": "display_data"
    },
    {
     "data": {
      "text/html": [],
      "text/plain": [
       "<IPython.core.display.HTML object>"
      ]
     },
     "metadata": {},
     "output_type": "display_data"
    },
    {
     "ename": "IndexError",
     "evalue": "index 0 is out of bounds for dimension 0 with size 0",
     "output_type": "error",
     "traceback": [
      "\u001b[1;31m---------------------------------------------------------------------------\u001b[0m",
      "\u001b[1;31mIndexError\u001b[0m                                Traceback (most recent call last)",
      "Input \u001b[1;32mIn [78]\u001b[0m, in \u001b[0;36m<cell line: 3>\u001b[1;34m()\u001b[0m\n\u001b[0;32m      1\u001b[0m \u001b[38;5;28;01mfrom\u001b[39;00m \u001b[38;5;21;01mfastai\u001b[39;00m\u001b[38;5;21;01m.\u001b[39;00m\u001b[38;5;21;01mcallback\u001b[39;00m \u001b[38;5;28;01mimport\u001b[39;00m schedule\n\u001b[1;32m----> 3\u001b[0m lr_min, lr_steep \u001b[38;5;241m=\u001b[39m \u001b[43mlearn\u001b[49m\u001b[38;5;241;43m.\u001b[39;49m\u001b[43mlr_find\u001b[49m\u001b[43m(\u001b[49m\u001b[43m)\u001b[49m\n\u001b[0;32m      5\u001b[0m \u001b[38;5;28mprint\u001b[39m(\u001b[38;5;124m'\u001b[39m\u001b[38;5;124mLearning rate with the minimum loss:\u001b[39m\u001b[38;5;124m'\u001b[39m, lr_min)\n\u001b[0;32m      6\u001b[0m \u001b[38;5;28mprint\u001b[39m(\u001b[38;5;124m'\u001b[39m\u001b[38;5;124mLearning rate with the steepest gradient:\u001b[39m\u001b[38;5;124m'\u001b[39m, lr_steep)\n",
      "File \u001b[1;32mC:\\ProgramData\\Anaconda3\\lib\\site-packages\\fastai\\callback\\schedule.py:304\u001b[0m, in \u001b[0;36mlr_find\u001b[1;34m(self, start_lr, end_lr, num_it, stop_div, show_plot, suggest_funcs)\u001b[0m\n\u001b[0;32m    302\u001b[0m \u001b[38;5;28;01mfor\u001b[39;00m func \u001b[38;5;129;01min\u001b[39;00m tuplify(suggest_funcs):\n\u001b[0;32m    303\u001b[0m     nms\u001b[38;5;241m.\u001b[39mappend(func\u001b[38;5;241m.\u001b[39m\u001b[38;5;18m__name__\u001b[39m \u001b[38;5;28;01mif\u001b[39;00m \u001b[38;5;129;01mnot\u001b[39;00m \u001b[38;5;28misinstance\u001b[39m(func, partial) \u001b[38;5;28;01melse\u001b[39;00m func\u001b[38;5;241m.\u001b[39mfunc\u001b[38;5;241m.\u001b[39m\u001b[38;5;18m__name__\u001b[39m) \u001b[38;5;66;03m# deal with partials\u001b[39;00m\n\u001b[1;32m--> 304\u001b[0m     _suggestions\u001b[38;5;241m.\u001b[39mappend(\u001b[43mfunc\u001b[49m\u001b[43m(\u001b[49m\u001b[43mlrs\u001b[49m\u001b[43m,\u001b[49m\u001b[43m \u001b[49m\u001b[43mlosses\u001b[49m\u001b[43m,\u001b[49m\u001b[43m \u001b[49m\u001b[43mnum_it\u001b[49m\u001b[43m)\u001b[49m)\n\u001b[0;32m    306\u001b[0m SuggestedLRs \u001b[38;5;241m=\u001b[39m collections\u001b[38;5;241m.\u001b[39mnamedtuple(\u001b[38;5;124m'\u001b[39m\u001b[38;5;124mSuggestedLRs\u001b[39m\u001b[38;5;124m'\u001b[39m, nms)\n\u001b[0;32m    307\u001b[0m lrs, pnts \u001b[38;5;241m=\u001b[39m [], []\n",
      "File \u001b[1;32mC:\\ProgramData\\Anaconda3\\lib\\site-packages\\fastai\\callback\\schedule.py:231\u001b[0m, in \u001b[0;36mvalley\u001b[1;34m(lrs, losses, num_it)\u001b[0m\n\u001b[0;32m    228\u001b[0m sections \u001b[38;5;241m=\u001b[39m (max_end \u001b[38;5;241m-\u001b[39m max_start) \u001b[38;5;241m/\u001b[39m \u001b[38;5;241m3\u001b[39m\n\u001b[0;32m    229\u001b[0m idx \u001b[38;5;241m=\u001b[39m max_start \u001b[38;5;241m+\u001b[39m \u001b[38;5;28mint\u001b[39m(sections) \u001b[38;5;241m+\u001b[39m \u001b[38;5;28mint\u001b[39m(sections\u001b[38;5;241m/\u001b[39m\u001b[38;5;241m2\u001b[39m)\n\u001b[1;32m--> 231\u001b[0m \u001b[38;5;28;01mreturn\u001b[39;00m \u001b[38;5;28mfloat\u001b[39m(\u001b[43mlrs\u001b[49m\u001b[43m[\u001b[49m\u001b[43midx\u001b[49m\u001b[43m]\u001b[49m), (\u001b[38;5;28mfloat\u001b[39m(lrs[idx]), losses[idx])\n",
      "\u001b[1;31mIndexError\u001b[0m: index 0 is out of bounds for dimension 0 with size 0"
     ]
    }
   ],
   "source": [
    "from fastai.callback import schedule\n",
    "\n",
    "lr_min, lr_steep = learn.lr_find()\n",
    "\n",
    "print('Learning rate with the minimum loss:', lr_min)\n",
    "print('Learning rate with the steepest gradient:', lr_steep)"
   ]
  },
  {
   "cell_type": "code",
   "execution_count": null,
   "id": "20cfb4a7",
   "metadata": {},
   "outputs": [],
   "source": []
  },
  {
   "cell_type": "code",
   "execution_count": null,
   "id": "fa4f705a",
   "metadata": {},
   "outputs": [],
   "source": []
  }
 ],
 "metadata": {
  "kernelspec": {
   "display_name": "Python 3 (ipykernel)",
   "language": "python",
   "name": "python3"
  },
  "language_info": {
   "codemirror_mode": {
    "name": "ipython",
    "version": 3
   },
   "file_extension": ".py",
   "mimetype": "text/x-python",
   "name": "python",
   "nbconvert_exporter": "python",
   "pygments_lexer": "ipython3",
   "version": "3.9.12"
  }
 },
 "nbformat": 4,
 "nbformat_minor": 5
}
